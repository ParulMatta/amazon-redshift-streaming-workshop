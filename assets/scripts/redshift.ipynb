{
 "cells": [
  {
   "cell_type": "markdown",
   "id": "5b2c259d-772d-43e9-8267-388878cc4661",
   "metadata": {},
   "source": [
    "1.1 Imports the required libraries to connect to Redshift from within a Jupyter notebook"
   ]
  },
  {
   "cell_type": "code",
   "execution_count": 1,
   "id": "cdcf962d-2603-45ef-9245-052ddfda2b1c",
   "metadata": {},
   "outputs": [],
   "source": [
    "import boto3\n",
    "import json\n",
    "import sqlalchemy as sa\n",
    "from sqlalchemy.engine.url import URL"
   ]
  },
  {
   "cell_type": "markdown",
   "id": "9f65537d-341e-4db1-9c23-47683e7de0f2",
   "metadata": {},
   "source": [
    "Step1.2 Parameters for the Redshift serverless endpoint that has been automatically provisioned using the Cloud Development Kit (CDK)"
   ]
  },
  {
   "cell_type": "code",
   "execution_count": 2,
   "id": "204b4bef-6a7c-4bd7-8474-e16a82a066cc",
   "metadata": {},
   "outputs": [],
   "source": [
    "endpoint = 'endpoint'\n",
    "workgroup_name = 'rs-qs-workgroup'\n",
    "namespace_name = 'rs-qs-namespace'\n",
    "secret_name = 'REDSHIFT_PASSWORD'\n",
    "admin_username = 'admin'\n",
    "admin_password = 'password'\n",
    "db_name = 'dev'\n",
    "port = 5439"
   ]
  },
  {
   "cell_type": "markdown",
   "id": "334156a5-df1a-4742-9f0d-fe7c2d380512",
   "metadata": {},
   "source": [
    "Step1.3 Sets up the connection parameters. Gets the connection endpoint of Redshift Serverless and extracts password from Secrets Manager service."
   ]
  },
  {
   "cell_type": "code",
   "execution_count": 3,
   "id": "b1817391-97d9-4a02-9ee5-6969dc4796f8",
   "metadata": {},
   "outputs": [],
   "source": [
    "redshift_client = boto3.client('redshift-serverless')\n",
    "secretsmanager_client = boto3.client('secretsmanager')\n",
    "endpoint = redshift_client.get_workgroup(workgroupName=workgroup_name)['workgroup']['endpoint']['address']\n",
    "secret_value = secretsmanager_client.get_secret_value(\n",
    "    SecretId=secret_name,\n",
    "    )['SecretString']\n",
    "admin_password = json.loads(secret_value)['password']"
   ]
  },
  {
   "cell_type": "code",
   "execution_count": 4,
   "id": "fbeebb7d-12aa-4007-a35b-35d353b01fba",
   "metadata": {},
   "outputs": [],
   "source": [
    "redshift_url = URL.create(\n",
    "drivername='redshift+redshift_connector', \n",
    "host=endpoint, \n",
    "port=port, \n",
    "database=db_name, \n",
    "username=admin_username,\n",
    "password=admin_password\n",
    ")"
   ]
  },
  {
   "cell_type": "markdown",
   "id": "14412bbc-c7c4-4fc7-857b-d06f18a478fe",
   "metadata": {},
   "source": [
    "Sets up the SQL extension of Jupyterlab to easily integrate with Redshift"
   ]
  },
  {
   "cell_type": "code",
   "execution_count": 5,
   "id": "ec6290e3-db00-4817-9180-30eacb3afcc5",
   "metadata": {},
   "outputs": [],
   "source": [
    "%reload_ext sql\n",
    "%config SqlMagic.displaylimit = 10\n",
    "%config SqlMagic.displaycon = False\n",
    "%sql $redshift_url"
   ]
  },
  {
   "cell_type": "markdown",
   "id": "6cfb36ce-c917-42c8-a0a7-3745edbf239f",
   "metadata": {},
   "source": [
    "Shows how Redshift result set can easily be converted into a Pandas dataframe"
   ]
  },
  {
   "cell_type": "code",
   "execution_count": 6,
   "id": "7eaab270-bcc2-458a-b2b0-2dddbfc1f48d",
   "metadata": {},
   "outputs": [
    {
     "name": "stdout",
     "output_type": "stream",
     "text": [
      "Done.\n",
      "<class 'pandas.core.frame.DataFrame'>\n"
     ]
    },
    {
     "data": {
      "text/html": [
       "<div>\n",
       "<style scoped>\n",
       "    .dataframe tbody tr th:only-of-type {\n",
       "        vertical-align: middle;\n",
       "    }\n",
       "\n",
       "    .dataframe tbody tr th {\n",
       "        vertical-align: top;\n",
       "    }\n",
       "\n",
       "    .dataframe thead th {\n",
       "        text-align: right;\n",
       "    }\n",
       "</style>\n",
       "<table border=\"1\" class=\"dataframe\">\n",
       "  <thead>\n",
       "    <tr style=\"text-align: right;\">\n",
       "      <th></th>\n",
       "      <th>current_user</th>\n",
       "    </tr>\n",
       "  </thead>\n",
       "  <tbody>\n",
       "    <tr>\n",
       "      <th>0</th>\n",
       "      <td>admin</td>\n",
       "    </tr>\n",
       "  </tbody>\n",
       "</table>\n",
       "</div>"
      ],
      "text/plain": [
       "  current_user\n",
       "0        admin"
      ]
     },
     "execution_count": 6,
     "metadata": {},
     "output_type": "execute_result"
    }
   ],
   "source": [
    "result_set = %sql select current_user\n",
    "user_df = result_set.DataFrame()\n",
    "print(type(user_df))\n",
    "user_df"
   ]
  },
  {
   "cell_type": "markdown",
   "id": "6a87ca25-4876-4f92-86fb-c37e834e509f",
   "metadata": {},
   "source": [
    "Creates an external schema to establish connection between the Redshift cluster and the Kinesis data stream. The default IAM role of Redshift has been configured to have read permissions to kinesis datastreams. "
   ]
  },
  {
   "cell_type": "code",
   "execution_count": null,
   "id": "cdecde31-30fe-44b6-a9d4-c77db809162f",
   "metadata": {},
   "outputs": [],
   "source": [
    "%%sql\n",
    "CREATE EXTERNAL SCHEMA kinesis_schema\n",
    "FROM KINESIS\n",
    "IAM_ROLE default;"
   ]
  },
  {
   "cell_type": "code",
   "execution_count": null,
   "id": "3249f2ba-09b9-4de3-9d93-cff986b90f44",
   "metadata": {},
   "outputs": [],
   "source": [
    "%%sql\n",
    "CREATE MATERIALIZED VIEW order_stream_json AS\n",
    "SELECT ApproximateArrivalTimestamp, JSON_PARSE(from_varbyte(Data, 'utf-8'))  order_json\n",
    "FROM kinesis_schema.order_stream\n",
    "WHERE is_utf8(Data) AND is_valid_json(from_varbyte(Data, 'utf-8'));"
   ]
  },
  {
   "cell_type": "code",
   "execution_count": null,
   "id": "91ae4d75-563e-400b-ac0a-885bab455952",
   "metadata": {},
   "outputs": [],
   "source": [
    "%%sql\n",
    "REFRESH MATERIALIZED VIEW order_stream_json;"
   ]
  },
  {
   "cell_type": "code",
   "execution_count": null,
   "id": "c16338f7-ab40-4315-9071-6f8ee12f2c35",
   "metadata": {},
   "outputs": [],
   "source": [
    "%%sql\n",
    "SELECT * FROM order_stream_json;"
   ]
  },
  {
   "cell_type": "code",
   "execution_count": null,
   "id": "12db1597-7264-4383-8955-1d6f82557f61",
   "metadata": {},
   "outputs": [],
   "source": [
    "%%sql\n",
    "SELECT order_json.delivery_state::VARCHAR, order_json.origin_state::VARCHAR, count(1) FROM order_stream_json\n",
    "group by order_json.delivery_state, order_json.origin_state\n",
    "order by count(1) desc;"
   ]
  },
  {
   "cell_type": "markdown",
   "id": "e9cb60e8-54ab-4949-b748-c016d4bd30b0",
   "metadata": {},
   "source": [
    "Creates a materialized view that parses the data within the order stream."
   ]
  },
  {
   "cell_type": "code",
   "execution_count": null,
   "id": "0240adc4-4ee8-48d7-a1f7-f3a7cae57d57",
   "metadata": {},
   "outputs": [],
   "source": [
    "%%sql\n",
    "CREATE MATERIALIZED VIEW order_stream AS\n",
    "SELECT ApproximateArrivalTimestamp, \n",
    "JSON_EXTRACT_PATH_TEXT(from_varbyte(Data, 'utf-8'), 'consignmentid', true)::BIGINT as consignmentid,\n",
    "JSON_EXTRACT_PATH_TEXT(from_varbyte(Data, 'utf-8'), 'timestamp', true)::VARCHAR(50) as order_timestamp,\n",
    "JSON_EXTRACT_PATH_TEXT(from_varbyte(Data, 'utf-8'), 'delivery_address', true)::VARCHAR(100) as delivery_address,\n",
    "JSON_EXTRACT_PATH_TEXT(from_varbyte(Data, 'utf-8'), 'delivery_state', true)::VARCHAR(50) as delivery_state,\n",
    "JSON_EXTRACT_PATH_TEXT(from_varbyte(Data, 'utf-8'), 'origin_address', true)::VARCHAR(100) as origin_address,\n",
    "JSON_EXTRACT_PATH_TEXT(from_varbyte(Data, 'utf-8'), 'origin_state', true)::VARCHAR(50) as origin_state,\n",
    "JSON_EXTRACT_PATH_TEXT(from_varbyte(Data, 'utf-8'), 'delay_probability', true)::VARCHAR(10) as delay_probability,\n",
    "JSON_EXTRACT_PATH_TEXT(from_varbyte(Data, 'utf-8'), 'days_to_deliver', true)::INT as days_to_deliver,\n",
    "JSON_EXTRACT_PATH_TEXT(from_varbyte(Data, 'utf-8'), 'delivery_distance', true)::FLOAT as delivery_distance,\n",
    "JSON_EXTRACT_PATH_TEXT(from_varbyte(Data, 'utf-8'), 'userid', true)::INT as userid,\n",
    "JSON_EXTRACT_PATH_TEXT(from_varbyte(Data, 'utf-8'), 'revenue', true)::FLOAT as revenue,\n",
    "JSON_EXTRACT_PATH_TEXT(from_varbyte(Data, 'utf-8'), 'cost', true)::FLOAT as cost\n",
    "FROM kinesis_schema.order_stream\n",
    "WHERE is_utf8(Data) AND is_valid_json(from_varbyte(Data, 'utf-8'));"
   ]
  },
  {
   "cell_type": "markdown",
   "id": "74d060e0-f833-43e9-a3cb-dab20b226855",
   "metadata": {},
   "source": [
    "Refreshes the data within the materialized view. This is where the actual data ingestion happens. Data gets loaded from the kinesis data stream into Amazon S3 without having to stage it first in S3."
   ]
  },
  {
   "cell_type": "code",
   "execution_count": null,
   "id": "30066a0c-d714-455e-8f61-a3e73b87a732",
   "metadata": {},
   "outputs": [],
   "source": [
    "%%sql\n",
    "REFRESH MATERIALIZED VIEW order_stream;"
   ]
  },
  {
   "cell_type": "code",
   "execution_count": 14,
   "id": "e6bc688b-59ce-49dc-84a8-81dc09505871",
   "metadata": {},
   "outputs": [
    {
     "name": "stdout",
     "output_type": "stream",
     "text": [
      "Done.\n"
     ]
    },
    {
     "data": {
      "text/html": [
       "<table>\n",
       "    <tr>\n",
       "        <th>count</th>\n",
       "    </tr>\n",
       "    <tr>\n",
       "        <td>172808</td>\n",
       "    </tr>\n",
       "</table>"
      ],
      "text/plain": [
       "[(172808,)]"
      ]
     },
     "execution_count": 14,
     "metadata": {},
     "output_type": "execute_result"
    }
   ],
   "source": [
    "%%sql\n",
    "SELECT count(1) FROM order_stream limit 100;"
   ]
  },
  {
   "cell_type": "code",
   "execution_count": null,
   "id": "f98477b6-d170-45ed-8a9c-9ed8c40939cb",
   "metadata": {},
   "outputs": [],
   "source": [
    "%%sql\n",
    "select * from order_stream"
   ]
  },
  {
   "cell_type": "code",
   "execution_count": null,
   "id": "b679747c-79cd-428f-8a92-0e6c625860c4",
   "metadata": {},
   "outputs": [],
   "source": []
  }
 ],
 "metadata": {
  "kernelspec": {
   "display_name": "conda_python3",
   "language": "python",
   "name": "conda_python3"
  },
  "language_info": {
   "codemirror_mode": {
    "name": "ipython",
    "version": 3
   },
   "file_extension": ".py",
   "mimetype": "text/x-python",
   "name": "python",
   "nbconvert_exporter": "python",
   "pygments_lexer": "ipython3",
   "version": "3.8.12"
  }
 },
 "nbformat": 4,
 "nbformat_minor": 5
}
