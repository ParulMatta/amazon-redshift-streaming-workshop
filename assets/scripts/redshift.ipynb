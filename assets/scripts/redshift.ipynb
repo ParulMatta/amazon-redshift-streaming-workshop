{
 "cells": [
  {
   "cell_type": "code",
   "execution_count": 1,
   "id": "43da3c65-1adb-4aa8-8513-f10556703bcc",
   "metadata": {},
   "outputs": [],
   "source": [
    "import boto3\n",
    "import json\n",
    "from glom import glom, T\n",
    "import sqlalchemy as sa\n",
    "from sqlalchemy.engine.url import URL"
   ]
  },
  {
   "cell_type": "code",
   "execution_count": 30,
   "id": "204b4bef-6a7c-4bd7-8474-e16a82a066cc",
   "metadata": {},
   "outputs": [],
   "source": [
    "workgroup_name = 'wg-streaming'\n",
    "namespace_name = 'ns-streaming'\n",
    "secret_name = 'REDSHIFT_PASSWORD'\n",
    "admin_username = 'admin'\n",
    "db_name = 'dev'\n",
    "port = 5439"
   ]
  },
  {
   "cell_type": "code",
   "execution_count": 31,
   "id": "fbeebb7d-12aa-4007-a35b-35d353b01fba",
   "metadata": {},
   "outputs": [],
   "source": [
    "redshift_client = boto3.client('redshift-serverless')\n",
    "secretsmanager_client = boto3.client('secretsmanager')\n",
    "endpoint = redshift_client.get_workgroup(workgroupName=workgroup_name)['workgroup']['endpoint']['address']\n",
    "admin_password = secretsmanager_client.get_secret_value(\n",
    "    SecretId=secret_name,\n",
    "    )['SecretString']"
   ]
  },
  {
   "cell_type": "code",
   "execution_count": 32,
   "id": "893c8e42-5732-4ddc-8003-94f0cf0ab3c0",
   "metadata": {},
   "outputs": [],
   "source": [
    "redshift_url = URL.create(\n",
    "drivername='redshift+redshift_connector', # indicate redshift_connector driver and dialect will be used\n",
    "host=endpoint, # Amazon Redshift host\n",
    "port=port, # Amazon Redshift port\n",
    "database=db_name, # Amazon Redshift database\n",
    "username=admin_username,\n",
    "password=admin_password\n",
    ")"
   ]
  },
  {
   "cell_type": "code",
   "execution_count": 41,
   "id": "ec6290e3-db00-4817-9180-30eacb3afcc5",
   "metadata": {},
   "outputs": [],
   "source": [
    "%reload_ext sql\n",
    "%config SqlMagic.displaylimit = 25\n",
    "%config SqlMagic.displaycon = False\n",
    "%sql $redshift_url"
   ]
  },
  {
   "cell_type": "code",
   "execution_count": 42,
   "id": "7eaab270-bcc2-458a-b2b0-2dddbfc1f48d",
   "metadata": {},
   "outputs": [
    {
     "name": "stdout",
     "output_type": "stream",
     "text": [
      "Done.\n"
     ]
    },
    {
     "data": {
      "text/html": [
       "<div>\n",
       "<style scoped>\n",
       "    .dataframe tbody tr th:only-of-type {\n",
       "        vertical-align: middle;\n",
       "    }\n",
       "\n",
       "    .dataframe tbody tr th {\n",
       "        vertical-align: top;\n",
       "    }\n",
       "\n",
       "    .dataframe thead th {\n",
       "        text-align: right;\n",
       "    }\n",
       "</style>\n",
       "<table border=\"1\" class=\"dataframe\">\n",
       "  <thead>\n",
       "    <tr style=\"text-align: right;\">\n",
       "      <th></th>\n",
       "      <th>current_user</th>\n",
       "    </tr>\n",
       "  </thead>\n",
       "  <tbody>\n",
       "    <tr>\n",
       "      <th>0</th>\n",
       "      <td>admin</td>\n",
       "    </tr>\n",
       "  </tbody>\n",
       "</table>\n",
       "</div>"
      ],
      "text/plain": [
       "  current_user\n",
       "0        admin"
      ]
     },
     "execution_count": 42,
     "metadata": {},
     "output_type": "execute_result"
    }
   ],
   "source": [
    "result_set = %sql select current_user\n",
    "user_df.DataFrame()"
   ]
  },
  {
   "cell_type": "code",
   "execution_count": 36,
   "id": "9299a6a1-2239-4d55-894e-7df7be4d1de7",
   "metadata": {},
   "outputs": [
    {
     "name": "stdout",
     "output_type": "stream",
     "text": [
      "Done.\n"
     ]
    },
    {
     "data": {
      "text/html": [
       "<table>\n",
       "    <tr>\n",
       "        <th>current_user</th>\n",
       "    </tr>\n",
       "    <tr>\n",
       "        <td>admin</td>\n",
       "    </tr>\n",
       "</table>"
      ],
      "text/plain": [
       "[('admin',)]"
      ]
     },
     "execution_count": 36,
     "metadata": {},
     "output_type": "execute_result"
    }
   ],
   "source": [
    "%%sql\n",
    "select current_user"
   ]
  }
 ],
 "metadata": {
  "kernelspec": {
   "display_name": "conda_python3",
   "language": "python",
   "name": "conda_python3"
  },
  "language_info": {
   "codemirror_mode": {
    "name": "ipython",
    "version": 3
   },
   "file_extension": ".py",
   "mimetype": "text/x-python",
   "name": "python",
   "nbconvert_exporter": "python",
   "pygments_lexer": "ipython3",
   "version": "3.8.12"
  }
 },
 "nbformat": 4,
 "nbformat_minor": 5
}
