{
 "cells": [
  {
   "cell_type": "code",
   "execution_count": 12,
   "metadata": {},
   "outputs": [
    {
     "name": "stdout",
     "output_type": "stream",
     "text": [
      "/Users/pvillena/PycharmProjects/redshift-streaming/.venv/bin/python\n"
     ]
    }
   ],
   "source": [
    "!which python\n",
    "import faker\n",
    "import random\n",
    "fake = faker.Faker(['en-AU'])"
   ]
  },
  {
   "cell_type": "code",
   "execution_count": 32,
   "metadata": {},
   "outputs": [
    {
     "name": "stdout",
     "output_type": "stream",
     "text": [
      "{'userid': 0, 'action': 'insert', 'job': 'Brewing technologist', 'company': 'Acevedo-Garcia', 'ssn': '444-10-0671', 'username': 'kristin66', 'name': 'Andrew Thompson', 'sex': 'M', 'mail': 'beckermelissa@hotmail.com.au', 'birthdate': '1988-10-03', 'address': '17/5 Brenda Key\\nEast Ashleychester, ACT, 3378', 'state': ' ACT'}\n",
      "{'userid': 1, 'action': 'insert', 'job': 'Psychologist, forensic', 'company': 'Zimmerman-Wilson', 'ssn': '414-23-9554', 'username': 'hernandezcynthia', 'name': 'Joyce Mendoza', 'sex': 'F', 'mail': 'andrewwilson@yahoo.com', 'birthdate': '1922-02-27', 'address': '8 Lucas Service Way\\nLauraview, WA, 6934', 'state': ' WA'}\n",
      "{'userid': 0, 'action': 'update', 'address': '8 Lucas Service Way\\nLauraview, WA, 6934', 'state': ' WA'}\n",
      "{'userid': 2, 'action': 'insert', 'job': 'Magazine journalist', 'company': 'Duke, Proctor and Powell', 'ssn': '894-87-2577', 'username': 'jameshubbard', 'name': 'Jeffrey Hanson', 'sex': 'M', 'mail': 'ygonzalez@yahoo.com.au', 'birthdate': '1954-03-26', 'address': '7 Phillips Crest\\nPort Monica, QLD, 2672', 'state': ' QLD'}\n",
      "{'userid': 3, 'action': 'update', 'address': '7 Phillips Crest\\nPort Monica, QLD, 2672', 'state': ' QLD'}\n",
      "{'userid': 3, 'action': 'insert', 'job': 'Production assistant, radio', 'company': 'Wilcox, Allen and Bell', 'ssn': '143-20-6501', 'username': 'brittney33', 'name': 'Cynthia Phillips', 'sex': 'F', 'mail': 'walkermaxwell@yahoo.com.au', 'birthdate': '2019-12-25', 'address': 'Apt. 785 51 Julie Entrance\\nLake Steven, SA, 0971', 'state': ' SA'}\n",
      "{'userid': 4, 'action': 'insert', 'job': 'Hydrologist', 'company': 'Hopkins and Sons', 'ssn': '235-36-1782', 'username': 'dwebster', 'name': 'Lauren Nguyen', 'sex': 'F', 'mail': 'christine70@yahoo.com.au', 'birthdate': '1978-12-27', 'address': 'Flat 47 6 Steven Subway\\nMcintyreport, NT, 2930', 'state': ' NT'}\n",
      "{'userid': 2, 'action': 'update', 'address': 'Flat 47 6 Steven Subway\\nMcintyreport, NT, 2930', 'state': ' NT'}\n",
      "{'userid': 5, 'action': 'insert', 'job': 'Social worker', 'company': 'Mcbride-Marks', 'ssn': '369-45-0854', 'username': 'donovancynthia', 'name': 'Michele Henry', 'sex': 'F', 'mail': 'reginaldtyler@hotmail.com.au', 'birthdate': '1981-01-12', 'address': '6/07 David Gully\\nJamesstad, NSW, 9042', 'state': ' NSW'}\n",
      "{'userid': 6, 'action': 'insert', 'job': 'Trade union research officer', 'company': 'Russell Ltd', 'ssn': '722-43-7426', 'username': 'stephen66', 'name': 'Jonathon Jones', 'sex': 'M', 'mail': 'conniemartin@yahoo.com', 'birthdate': '1951-07-01', 'address': '8 Donna Ronde\\nHopkinsfort, ACT, 2046', 'state': ' ACT'}\n",
      "{'userid': 7, 'action': 'insert', 'job': 'Animal technologist', 'company': 'Smith, Garrett and Wilkerson', 'ssn': '409-29-4009', 'username': 'brent65', 'name': 'Kristin Ramirez', 'sex': 'F', 'mail': 'vjohnson@hotmail.com', 'birthdate': '1990-10-29', 'address': '727 Tran Gate\\nSt. Thomas, ACT, 2924', 'state': ' ACT'}\n",
      "{'userid': 5, 'action': 'update', 'address': '727 Tran Gate\\nSt. Thomas, ACT, 2924', 'state': ' ACT'}\n",
      "{'userid': 8, 'action': 'insert', 'job': 'Technical author', 'company': 'Byrd-Estrada', 'ssn': '573-60-6932', 'username': 'joshuafrazier', 'name': 'Pamela Harris', 'sex': 'F', 'mail': 'christopherclark@hotmail.com', 'birthdate': '1962-02-05', 'address': '9 Lori Cutting\\nSouth Nicole, NT, 2690', 'state': ' NT'}\n",
      "{'userid': 2, 'action': 'update', 'address': '9 Lori Cutting\\nSouth Nicole, NT, 2690', 'state': ' NT'}\n",
      "{'userid': 9, 'action': 'insert', 'job': 'Physiotherapist', 'company': 'Armstrong Group', 'ssn': '344-90-9962', 'username': 'jonesbrian', 'name': 'Tanya Wall', 'sex': 'F', 'mail': 'nunezmichelle@yahoo.com.au', 'birthdate': '1983-12-30', 'address': '45/53 Sierra Glade\\nSt. Paul, QLD, 2674', 'state': ' QLD'}\n"
     ]
    }
   ],
   "source": [
    "cur_key = 0\n",
    "record_count = 0\n",
    "for i in range (10):\n",
    "    profile_rec = {}\n",
    "    profile_rec['userid'] = cur_key + record_count\n",
    "    profile_rec['action'] = 'insert'\n",
    "    profile_rec.update(fake.profile(['username','job', 'company', 'ssn', 'name', 'sex', 'birthdate', 'mail']))\n",
    "    customer_address = fake.address()\n",
    "    customer_state = customer_address.split(',')[-2]\n",
    "    profile_rec['address'] = customer_address\n",
    "    profile_rec['state'] = customer_state\n",
    "    profile_rec['birthdate'] = profile_rec['birthdate'].isoformat()\n",
    "    record_count += 1\n",
    "    print(profile_rec)\n",
    "    if random.random() < 0.2:\n",
    "        profile_rec = {}\n",
    "        profile_rec['userid'] = random.randint(0,cur_key + record_count)\n",
    "        profile_rec['action'] = 'update'\n",
    "        customer_state = customer_address.split(',')[-2]\n",
    "        profile_rec['address'] = customer_address\n",
    "        profile_rec['state'] = customer_state\n",
    "        print(profile_rec)\n",
    "\n"
   ]
  },
  {
   "cell_type": "code",
   "execution_count": 23,
   "metadata": {},
   "outputs": [
    {
     "data": {
      "text/plain": [
       "7"
      ]
     },
     "execution_count": 23,
     "metadata": {},
     "output_type": "execute_result"
    }
   ],
   "source": []
  },
  {
   "cell_type": "code",
   "execution_count": 17,
   "metadata": {},
   "outputs": [
    {
     "data": {
      "text/plain": [
       "{'userid': 8,\n",
       " 'action': 'insert',\n",
       " 'job': 'Quarry manager',\n",
       " 'company': 'Clark Ltd',\n",
       " 'ssn': '835-54-2192',\n",
       " 'username': 'hollowayjeffrey',\n",
       " 'name': 'Jill Carpenter',\n",
       " 'sex': 'F',\n",
       " 'mail': 'mwood@gmail.com',\n",
       " 'birthdate': '1950-07-22',\n",
       " 'address': '551 Dixon Gates\\nPort Cesar, WA, 2653',\n",
       " 'state': ' WA'}"
      ]
     },
     "execution_count": 17,
     "metadata": {},
     "output_type": "execute_result"
    }
   ],
   "source": [
    "profile_rec"
   ]
  },
  {
   "cell_type": "code",
   "execution_count": null,
   "metadata": {},
   "outputs": [],
   "source": []
  }
 ],
 "metadata": {
  "interpreter": {
   "hash": "d58426509c9133a6751d37925b5335a73d8a3d398098145402e628d0c8c072ba"
  },
  "kernelspec": {
   "display_name": "Python 3.9.1 ('.venv': venv)",
   "language": "python",
   "name": "python3"
  },
  "language_info": {
   "codemirror_mode": {
    "name": "ipython",
    "version": 3
   },
   "file_extension": ".py",
   "mimetype": "text/x-python",
   "name": "python",
   "nbconvert_exporter": "python",
   "pygments_lexer": "ipython3",
   "version": "3.8.9"
  },
  "orig_nbformat": 4
 },
 "nbformat": 4,
 "nbformat_minor": 2
}
